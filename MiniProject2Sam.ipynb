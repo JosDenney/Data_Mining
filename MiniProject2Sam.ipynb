{
 "cells": [
  {
   "cell_type": "markdown",
   "metadata": {},
   "source": [
    "Create Models: Logistic Regression\n",
    "\n",
    "To recap from project 1, we are using the 'flights' data set, as found on Kaggle. Our main interest is predicting the arrival delay of flights. In this round of analysis, we are interested in predicting arrival delays exceeding ten minutes. We hypothesize we will take our classification efforts further in the next project to arrive at an ordinal prediction. For now, we are focused on the variable ARRIVAL_IND, which represents the arrival indicator of 0=not delayed at arrival and 1=delayed at arrival.\n",
    "\n",
    "Project 1's exploratory data analysis led us to believe that delays vary by region and airline. Instead of modeling all U.S. flights, we will focus our efforts on predicting flights leaving Atlanta's Hartsfield-Jackson Airport. We chose this airport for analysis because it is the busiest in the country. In addition to subsetting by the busiest airport, we aim to articulate this modeling effort to likely business/operations metrics.\n",
    "\n",
    "Our first effort will be to create logistic regression models. While we strive for an accurate model, we also seek to develop a sparse model of comparable accuracy."
   ]
  },
  {
   "cell_type": "code",
   "execution_count": 1,
   "metadata": {},
   "outputs": [],
   "source": [
    "#data import and cleaning\n",
    "import pandas as pd\n",
    "df1 = pd.read_csv('rawdata.csv',low_memory=False, encoding = 'ISO-8859-1')\n",
    "df1 = df1.drop(['ARRIVAL_DELAY', 'DEPARTURE_IND', 'DEPARTURE_DELAY', 'ARRIVAL_DELAY', 'CANCELLATION_REASON', 'YEAR',\n",
    "                'Unnamed: 0','DATE', 'AIRLINE', 'DESTINATION_LONGITUDE', 'DESTINATION_LATITUDE', 'DESTINATION_AIRPORT_NAME',\n",
    "                'DEPARTING_LONGITUDE','DEPARTING_LATITUDE','DEPARTING_AIRPORT_ NAME', 'CANCELLED', 'DIVERTED', 'TAIL_NUMBER',\n",
    "                'FLIGHT_NUMBER','DEPARTING_CITY','DEPARTING_STATE', 'DEPARTING_COUNTRY', 'DEPARTING_REGION'],\n",
    "               axis=1)\n",
    "\n",
    "column_titles = ['MONTH', 'DAY','DAY_OF_WEEK', 'AIRLINE_CODE', 'ORIGIN_AIRPORT', 'DESTINATION_AIRPORT', 'DESTINATION_CITY', \n",
    "                 'DESTINATION_STATE', 'DESTINATION_COUNTRY','DESTINATION_REGION', 'SCHEDULED_DEPARTURE', 'DEPARTURE_TIME',\n",
    "                'TAXI_OUT', 'WHEELS_OFF', 'SCHEDULED_TIME', 'ELAPSED_TIME','AIR_TIME', 'DISTANCE', 'WHEELS_ON','TAXI_IN', \n",
    "                'SCHEDULED_ARRIVAL', 'ARRIVAL_TIME','SECURITY_DELAY', 'AIRLINE_DELAY','LATE_AIRCRAFT_DELAY',\n",
    "                'WEATHER_DELAY','ARRIVAL_IND']\n",
    "\n",
    "#reorder the columns\n",
    "df1 = df1.reindex(columns=column_titles)\n",
    "\n",
    "#focus on world's busiest airport in this analysis\n",
    "ATL1 = df1.loc[df1['ORIGIN_AIRPORT'] == 'ATL']"
   ]
  },
  {
   "cell_type": "code",
   "execution_count": 2,
   "metadata": {},
   "outputs": [
    {
     "name": "stdout",
     "output_type": "stream",
     "text": [
      "<class 'pandas.core.frame.DataFrame'>\n",
      "Int64Index: 61460 entries, 38 to 931955\n",
      "Data columns (total 27 columns):\n",
      "MONTH                  61460 non-null int64\n",
      "DAY                    61460 non-null int64\n",
      "DAY_OF_WEEK            61460 non-null int64\n",
      "AIRLINE_CODE           61460 non-null object\n",
      "ORIGIN_AIRPORT         61460 non-null object\n",
      "DESTINATION_AIRPORT    61460 non-null object\n",
      "DESTINATION_CITY       61460 non-null object\n",
      "DESTINATION_STATE      61460 non-null object\n",
      "DESTINATION_COUNTRY    61460 non-null object\n",
      "DESTINATION_REGION     61460 non-null object\n",
      "SCHEDULED_DEPARTURE    61460 non-null int64\n",
      "DEPARTURE_TIME         61460 non-null float64\n",
      "TAXI_OUT               61460 non-null float64\n",
      "WHEELS_OFF             61460 non-null float64\n",
      "SCHEDULED_TIME         61460 non-null float64\n",
      "ELAPSED_TIME           61460 non-null float64\n",
      "AIR_TIME               61460 non-null float64\n",
      "DISTANCE               61460 non-null int64\n",
      "WHEELS_ON              61460 non-null float64\n",
      "TAXI_IN                61460 non-null float64\n",
      "SCHEDULED_ARRIVAL      61460 non-null int64\n",
      "ARRIVAL_TIME           61460 non-null float64\n",
      "SECURITY_DELAY         61460 non-null float64\n",
      "AIRLINE_DELAY          61460 non-null float64\n",
      "LATE_AIRCRAFT_DELAY    61460 non-null float64\n",
      "WEATHER_DELAY          61460 non-null float64\n",
      "ARRIVAL_IND            61460 non-null float64\n",
      "dtypes: float64(14), int64(6), object(7)\n",
      "memory usage: 13.1+ MB\n"
     ]
    }
   ],
   "source": [
    "ATL1.info()"
   ]
  },
  {
   "cell_type": "code",
   "execution_count": 3,
   "metadata": {},
   "outputs": [],
   "source": [
    "#One hot encode using a temporary data frame\n",
    "ATL1 = pd.get_dummies(ATL1, prefix=['AIRLINE_CODE', 'DESTINATION_AIRPORT','DESTINATION_CITY', 'DESTINATION_STATE',\n",
    "                                     'DESTINATION_COUNTRY', 'DESTINATION_REGION'],\n",
    "                       columns=['AIRLINE_CODE', 'DESTINATION_AIRPORT', 'DESTINATION_CITY', 'DESTINATION_STATE',\n",
    "                                     'DESTINATION_COUNTRY', 'DESTINATION_REGION'])"
   ]
  },
  {
   "cell_type": "code",
   "execution_count": 4,
   "metadata": {},
   "outputs": [],
   "source": [
    "#remove redundant predictors\n",
    "\n",
    "if 'ORIGIN_AIRPORT' in ATL1:\n",
    "    del ATL1['ORIGIN_AIRPORT']\n",
    "\n",
    "if 'AIRLINE_CODE' in ATL1:\n",
    "    del ATL1['AIRLINE_CODE']\n",
    "    \n",
    "if 'DESTINATION_AIRPORT' in ATL1:    \n",
    "    del ATL1['DESTINATION_AIRPORT']\n",
    "    \n",
    "if 'DESTINATION_CITY' in ATL1:    \n",
    "    del ATL1['DESTINATION_CITY']\n",
    "\n",
    "if 'DESTINATION_STATE' in ATL1:    \n",
    "    del ATL1['DESTINATION_STATE']\n",
    "    \n",
    "if 'DESTINATION_COUNTRY' in ATL1:    \n",
    "    del ATL1['DESTINATION_COUNTRY']\n",
    "    \n",
    "if 'DESTINATION_REGION' in ATL1:    \n",
    "    del ATL1['DESTINATION_REGION']"
   ]
  },
  {
   "cell_type": "code",
   "execution_count": 5,
   "metadata": {},
   "outputs": [
    {
     "name": "stdout",
     "output_type": "stream",
     "text": [
      "The Shape of the data frame after adding dummy variables is (61460, 395)\n"
     ]
    }
   ],
   "source": [
    "#create X and y variables for modeling\n",
    "X = ATL1.drop('ARRIVAL_IND', axis = 1).values\n",
    "y = ATL1['ARRIVAL_IND'].values\n",
    "print(\"The Shape of the data frame after adding dummy variables is\", ATL1.shape)"
   ]
  },
  {
   "cell_type": "markdown",
   "metadata": {},
   "source": [
    "To begin, we will need to go through some basic data cleaning. We will read in the data output from project 1 and remove variables that are intuitively of no use to our modeling. Next, we rearrange our columns to a sequence that follows all discrete variables, followed by continuous features. Because our data set is rich in categorical features, mostly geographic, we must create dummy variables (one hot encoding) for this data set. As a final step, we define our X and y variables, where y is equal to ARRIVAL_IND and X is equal to all other features.\n",
    "\n",
    "Once we account for our newly created dummy varibles, our data set grows to 399 features. Before we begin to construst a robust model, we must first perform variable selection."
   ]
  },
  {
   "cell_type": "code",
   "execution_count": 6,
   "metadata": {},
   "outputs": [],
   "source": [
    "#create an object to scale data using standard scaler\n",
    "from sklearn.preprocessing import StandardScaler\n",
    "scl_obj = StandardScaler()\n",
    "\n",
    "#scale X to make zero mean and unit standard deviation\n",
    "scl_obj.fit(X) \n",
    "X_scaled = scl_obj.transform(X)"
   ]
  },
  {
   "cell_type": "code",
   "execution_count": 7,
   "metadata": {
    "collapsed": true
   },
   "outputs": [],
   "source": [
    "#import feature selection and logistic regression\n",
    "from sklearn.feature_selection import SelectFromModel\n",
    "from sklearn.linear_model import LogisticRegression"
   ]
  },
  {
   "cell_type": "markdown",
   "metadata": {},
   "source": [
    "While we want to maximize accuracy and precision, we also want to find a sparse model. A model with the least coefficients and generalizes well to the test data is our goal. To do so, we will make use of our entire data set to explore feature importance. We will not use any of the found coefficient in our model; this step is simply to reduce the dimensionality of our data set. We will control our variable selection method by using L1 regularization: \"The main concept behind L1 regularization is...the L1 penalty is the sum of the absolute weight coefficients...(and) serves as a method for feature selection\"(Python Machine Learning 2nd ed, Sebastian Raschka, pg. 126-128).\n",
    "\n",
    "We set 'C' parameter low to encourage a sparse solution. "
   ]
  },
  {
   "cell_type": "code",
   "execution_count": 8,
   "metadata": {},
   "outputs": [
    {
     "data": {
      "text/plain": [
       "(61460, 25)"
      ]
     },
     "execution_count": 8,
     "metadata": {},
     "output_type": "execute_result"
    }
   ],
   "source": [
    "#Make a model to use as input to select from model\n",
    "logreg = LogisticRegression(C=0.01, penalty=\"l1\", dual=False).fit(X,y)\n",
    "model = SelectFromModel(logreg, prefit=True)\n",
    "X_new = model.transform(X)\n",
    "X_new.shape"
   ]
  },
  {
   "cell_type": "code",
   "execution_count": 9,
   "metadata": {},
   "outputs": [
    {
     "data": {
      "text/plain": [
       "array([  0,   1,   2,   3,   4,   5,   6,   7,   8,   9,  10,  11,  12,\n",
       "        13,  14,  15,  16,  17,  18,  21,  22,  28, 386, 387, 391], dtype=int64)"
      ]
     },
     "execution_count": 9,
     "metadata": {},
     "output_type": "execute_result"
    }
   ],
   "source": [
    "#print out the features that were not zeroed out from the L1 regularization.\n",
    "#These will be the features to use in the sparse data set. \n",
    "model.get_support(indices=True)"
   ]
  },
  {
   "cell_type": "code",
   "execution_count": 10,
   "metadata": {},
   "outputs": [
    {
     "name": "stderr",
     "output_type": "stream",
     "text": [
      "C:\\ProgramData\\Anaconda3\\lib\\site-packages\\ipykernel_launcher.py:2: DeprecationWarning: \n",
      ".ix is deprecated. Please use\n",
      ".loc for label based indexing or\n",
      ".iloc for positional indexing\n",
      "\n",
      "See the documentation here:\n",
      "http://pandas.pydata.org/pandas-docs/stable/indexing.html#ix-indexer-is-deprecated\n",
      "  \n"
     ]
    }
   ],
   "source": [
    "#make a new data frame of the selected variables\n",
    "ATL_trimmed = ATL1.ix[:,[0,   1,   2,   3,  4,  5,   6,   7,   8,   9,  10,  11,  12,\n",
    "        13,  14,  15,  16,  17,  18,  21, 386, 387, 391]]"
   ]
  },
  {
   "cell_type": "code",
   "execution_count": 11,
   "metadata": {},
   "outputs": [
    {
     "name": "stdout",
     "output_type": "stream",
     "text": [
      "<class 'pandas.core.frame.DataFrame'>\n",
      "Int64Index: 61460 entries, 38 to 931955\n",
      "Data columns (total 23 columns):\n",
      "MONTH                       61460 non-null int64\n",
      "DAY                         61460 non-null int64\n",
      "DAY_OF_WEEK                 61460 non-null int64\n",
      "SCHEDULED_DEPARTURE         61460 non-null int64\n",
      "DEPARTURE_TIME              61460 non-null float64\n",
      "TAXI_OUT                    61460 non-null float64\n",
      "WHEELS_OFF                  61460 non-null float64\n",
      "SCHEDULED_TIME              61460 non-null float64\n",
      "ELAPSED_TIME                61460 non-null float64\n",
      "AIR_TIME                    61460 non-null float64\n",
      "DISTANCE                    61460 non-null int64\n",
      "WHEELS_ON                   61460 non-null float64\n",
      "TAXI_IN                     61460 non-null float64\n",
      "SCHEDULED_ARRIVAL           61460 non-null int64\n",
      "ARRIVAL_TIME                61460 non-null float64\n",
      "SECURITY_DELAY              61460 non-null float64\n",
      "AIRLINE_DELAY               61460 non-null float64\n",
      "LATE_AIRCRAFT_DELAY         61460 non-null float64\n",
      "WEATHER_DELAY               61460 non-null float64\n",
      "AIRLINE_CODE_AS             61460 non-null uint8\n",
      "DESTINATION_STATE_WY        61460 non-null uint8\n",
      "DESTINATION_COUNTRY_USA     61460 non-null uint8\n",
      "DESTINATION_REGION_Rocky    61460 non-null uint8\n",
      "dtypes: float64(13), int64(6), uint8(4)\n",
      "memory usage: 9.6 MB\n"
     ]
    }
   ],
   "source": [
    "#Let's take a look at our variables left after L1 regularization.\n",
    "ATL_trimmed.info()"
   ]
  },
  {
   "cell_type": "markdown",
   "metadata": {},
   "source": [
    "What we see from the selected variables is not surprising: destination plays a large role and region is favored over the individual destination city variables. Also, we see that all of our delay variables are included. As we strive to translate this model to operational/business metrics, we want to pay close attention to the delay variable(s) with the largest coefficents, as they will help guide our final message. Time of departure is also a relevant feature. We will discuss more variable interpretation in the \"Interpret Feature Importance\" section.\n",
    "\n",
    "Now that we have a smaller subset of features, we will begin the logistic model development and improvement. We begin with a model that doesn't make use of Grid Search. We will address model performance and then proceed to improve the model by improving model parameters. "
   ]
  },
  {
   "cell_type": "code",
   "execution_count": 12,
   "metadata": {},
   "outputs": [],
   "source": [
    "X_trimmed = ATL_trimmed.values"
   ]
  },
  {
   "cell_type": "code",
   "execution_count": 13,
   "metadata": {},
   "outputs": [],
   "source": [
    "#create a train/test split of 80% of instances allocated for training and 20% allocated for test\n",
    "#random state set for reproducibility\n",
    "logreg = LogisticRegression()\n",
    "from sklearn.model_selection import train_test_split\n",
    "X_train,X_test,y_train,y_test = train_test_split(X_trimmed,y,test_size=0.2, random_state = 42)\n",
    "\n",
    "#scale our X values\n",
    "# scale attributes by the training set\n",
    "scl_obj = StandardScaler()\n",
    "scl_obj.fit(X_train) \n",
    "\n",
    "# find scalings for each column that make this zero mean and unit std\n",
    "# the line of code above only looks at training data to get mean and std and we can use it \n",
    "# to transform new feature data\n",
    "X_train_scaled = scl_obj.transform(X_train) # apply to training\n",
    "X_test_scaled = scl_obj.transform(X_test)\n",
    "\n",
    "#fit model\n",
    "logreg.fit(X_train_scaled,y_train)\n",
    "\n",
    "#Predict on test data set\n",
    "yhat = logreg.predict(X_test_scaled)"
   ]
  },
  {
   "cell_type": "code",
   "execution_count": 14,
   "metadata": {},
   "outputs": [
    {
     "data": {
      "text/plain": [
       "0.98869183208590949"
      ]
     },
     "execution_count": 14,
     "metadata": {},
     "output_type": "execute_result"
    }
   ],
   "source": [
    "logreg.score(X_test_scaled, y_test)"
   ]
  },
  {
   "cell_type": "code",
   "execution_count": 15,
   "metadata": {},
   "outputs": [
    {
     "name": "stdout",
     "output_type": "stream",
     "text": [
      "SCHEDULED_TIME has weight of -9.82736510857\n",
      "SCHEDULED_DEPARTURE has weight of -6.23176530816\n",
      "DISTANCE has weight of -0.262475731937\n",
      "WHEELS_ON has weight of -0.122744726062\n",
      "DAY_OF_WEEK has weight of -0.0820961539354\n",
      "DESTINATION_STATE_WY has weight of -0.0687954478859\n",
      "AIRLINE_CODE_AS has weight of -0.031699350438\n",
      "DESTINATION_REGION_Rocky has weight of -0.0179354334042\n",
      "DESTINATION_COUNTRY_USA has weight of 0.0\n",
      "DAY has weight of 0.00973165535877\n",
      "SCHEDULED_ARRIVAL has weight of 0.0567041655193\n",
      "MONTH has weight of 0.104983738864\n",
      "ARRIVAL_TIME has weight of 0.155971544514\n",
      "SECURITY_DELAY has weight of 0.48850193731\n",
      "TAXI_IN has weight of 0.527422387023\n",
      "WHEELS_OFF has weight of 0.702943246177\n",
      "TAXI_OUT has weight of 0.957992069349\n",
      "AIR_TIME has weight of 5.01011007854\n",
      "ELAPSED_TIME has weight of 5.01502827869\n",
      "DEPARTURE_TIME has weight of 5.6721435111\n",
      "WEATHER_DELAY has weight of 6.64011817891\n",
      "AIRLINE_DELAY has weight of 13.3502134168\n",
      "LATE_AIRCRAFT_DELAY has weight of 13.5644591759\n"
     ]
    }
   ],
   "source": [
    "# sort these attributes and print out model coefficients\n",
    "zip_vars = zip(logreg.coef_.T, ATL_trimmed) # combine attributes\n",
    "zip_vars = sorted(zip_vars)\n",
    "for coef, name in zip_vars:\n",
    "    print(name, 'has weight of', coef[0]) # now print them out"
   ]
  },
  {
   "cell_type": "code",
   "execution_count": 16,
   "metadata": {},
   "outputs": [
    {
     "data": {
      "image/png": "[encoded data removed]",
      "text/plain": [
       "<matplotlib.figure.Figure at 0x20588d31240>"
      ]
     },
     "metadata": {},
     "output_type": "display_data"
    }
   ],
   "source": [
    "#Plot the coefficients\n",
    "import matplotlib.pyplot as plt\n",
    "%matplotlib inline\n",
    "plt.style.use('ggplot')\n",
    "\n",
    "weights = pd.Series(logreg.coef_[0],index=ATL_trimmed.columns)\n",
    "weights.plot(kind='bar')\n",
    "plt.show()"
   ]
  },
  {
   "cell_type": "markdown",
   "metadata": {},
   "source": [
    "We see from our initial model that accuracy is already high. Let's take a closer look at some of the performance metrics of this model before we utilize grid search to improve the model, as well as our variables skewed heavily towards the delay indicators. We will proceed with evaluating model performance and then move towards improving results with GridSearch."
   ]
  },
  {
   "cell_type": "code",
   "execution_count": 17,
   "metadata": {},
   "outputs": [
    {
     "data": {
      "text/plain": [
       "array([[10395,    10],\n",
       "       [  129,  1758]])"
      ]
     },
     "execution_count": 17,
     "metadata": {},
     "output_type": "execute_result"
    }
   ],
   "source": [
    "from sklearn import metrics as mt\n",
    "conf = mt.confusion_matrix(y_test,yhat)\n",
    "conf"
   ]
  },
  {
   "cell_type": "code",
   "execution_count": 18,
   "metadata": {},
   "outputs": [
    {
     "name": "stdout",
     "output_type": "stream",
     "text": [
      "             precision    recall  f1-score   support\n",
      "\n",
      "        0.0       0.99      1.00      0.99     10405\n",
      "        1.0       0.99      0.93      0.96      1887\n",
      "\n",
      "avg / total       0.99      0.99      0.99     12292\n",
      "\n"
     ]
    }
   ],
   "source": [
    "from sklearn.metrics import classification_report\n",
    "print(classification_report(y_test,yhat))"
   ]
  },
  {
   "cell_type": "markdown",
   "metadata": {},
   "source": [
    "Both metrics, confusion matrix and classification report, show us that this is a high performing model. Recall is defined as\n",
    "R = \\frac{T_p}{T_p + F_n}.\n",
    "\n",
    "We are interested in this metric in particular because we want to minimize our false negative rate because it is the most meaningful metric for this type of problem. A flight predicted as not arriving late when it actually is late, is considered \"high cost\" for this problem as we strive to make this a relevant operational metric because we aim to make this classification task actionable for the end user. \n",
    "\n",
    "We finally see the trade off curve plotted below. Our results allow us to achieve both high precision and recall, a rare finding in an imbalanced data set. "
   ]
  },
  {
   "cell_type": "code",
   "execution_count": 19,
   "metadata": {
    "scrolled": false
   },
   "outputs": [
    {
     "name": "stdout",
     "output_type": "stream",
     "text": [
      "Average precision-recall score: 0.97\n"
     ]
    },
    {
     "data": {
      "image/png": "[encoded data removed]",
      "text/plain": [
       "<matplotlib.figure.Figure at 0x22a1c276550>"
      ]
     },
     "metadata": {},
     "output_type": "display_data"
    }
   ],
   "source": [
    "from sklearn.metrics import precision_recall_curve\n",
    "import matplotlib.pyplot as plt\n",
    "from sklearn.metrics import average_precision_score\n",
    "average_precision = average_precision_score(y_test, yhat)\n",
    "\n",
    "print('Average precision-recall score: {0:0.2f}'.format(\n",
    "      average_precision))\n",
    "precision, recall, _ = precision_recall_curve(y_test, yhat)\n",
    "\n",
    "plt.step(recall, precision, color='b', alpha=0.2,\n",
    "         where='post')\n",
    "plt.fill_between(recall, precision, step='post', alpha=0.2,\n",
    "                 color='b')\n",
    "\n",
    "plt.xlabel('Recall')\n",
    "plt.ylabel('Precision')\n",
    "plt.ylim([0.0, 1.05])\n",
    "plt.xlim([0.0, 1.0])\n",
    "plt.title('2-class Precision-Recall Curve: AP={0:0.2f}'.format(\n",
    "          average_precision))\n",
    "plt.show()\n",
    "\n",
    "#source: scikitlearn documentation. "
   ]
  },
  {
   "cell_type": "markdown",
   "metadata": {},
   "source": [
    "To recap, we performed variable selection and created a model based on the terms that were not penalized to 0 coefficients in L1 regularization. We saw that the model performed well based on an 80/20 train/test split. We will now investigate how to improve upon an already strong model using GridSearchCV. The variable we want to improve is C:\"Inverse of regularization strength; must be a positive float. Like in support vector machines, smaller values specify stronger regularization\" (scikit learn logistic regression documentation). "
   ]
  },
  {
   "cell_type": "code",
   "execution_count": 20,
   "metadata": {},
   "outputs": [],
   "source": [
    "#set up parameter grid search for C variable\n",
    "from sklearn.model_selection import GridSearchCV\n",
    "param_grid = {'C': [0.001, 0.01, 0.1, 1, 10, 100, 1000] }\n",
    "logreg = LogisticRegression()\n",
    "clf = GridSearchCV(logreg, param_grid)\n",
    "\n",
    "#fit model\n",
    "clf.fit(X_train_scaled,y_train)"
   ]
  },
  {
   "cell_type": "code",
   "execution_count": 21,
   "metadata": {},
   "outputs": [
    {
     "name": "stdout",
     "output_type": "stream",
     "text": [
      "0.993512040351\n",
      "{'C': 1000}\n"
     ]
    }
   ],
   "source": [
    "#print the best paramter of C found and best score\n",
    "print(clf.best_score_)\n",
    "print(clf.best_params_)"
   ]
  },
  {
   "cell_type": "markdown",
   "metadata": {},
   "source": [
    "We found the optimal parameter of C to be 1000. It is not computationally efficient to find the true optimum of C. However, give the score increase, we conclude this model is optimized. "
   ]
  },
  {
   "cell_type": "code",
   "execution_count": 25,
   "metadata": {},
   "outputs": [
    {
     "name": "stdout",
     "output_type": "stream",
     "text": [
      "Test accuracy: 0.993\n"
     ]
    }
   ],
   "source": [
    "#print test accuracy using best estimator from gridsearch\n",
    "grid_model = clf.best_estimator_\n",
    "grid_model.fit(X_train_scaled, y_train)\n",
    "grid_test = grid_model.predict(X_test_scaled)\n",
    "print('Test accuracy: %.3f' % grid_model.score(X_test_scaled, y_test))"
   ]
  },
  {
   "cell_type": "code",
   "execution_count": 26,
   "metadata": {},
   "outputs": [
    {
     "data": {
      "text/plain": [
       "array([[10388,    17],\n",
       "       [   74,  1813]])"
      ]
     },
     "execution_count": 26,
     "metadata": {},
     "output_type": "execute_result"
    }
   ],
   "source": [
    "#evaluate performance via confusion matrix\n",
    "conf = mt.confusion_matrix(y_test,grid_test)\n",
    "conf"
   ]
  },
  {
   "cell_type": "code",
   "execution_count": 27,
   "metadata": {},
   "outputs": [
    {
     "name": "stdout",
     "output_type": "stream",
     "text": [
      "             precision    recall  f1-score   support\n",
      "\n",
      "        0.0       0.99      1.00      1.00     10405\n",
      "        1.0       0.99      0.96      0.98      1887\n",
      "\n",
      "avg / total       0.99      0.99      0.99     12292\n",
      "\n"
     ]
    }
   ],
   "source": [
    "#take a look at the classification report\n",
    "print(classification_report(y_test,grid_test))"
   ]
  },
  {
   "cell_type": "markdown",
   "metadata": {},
   "source": [
    "Additionally, we have imporved our the model performance, as both recall and F1-score have improved for our positive class of ARRIVAL DELAY = 1. "
   ]
  },
  {
   "cell_type": "code",
   "execution_count": 28,
   "metadata": {},
   "outputs": [
    {
     "name": "stdout",
     "output_type": "stream",
     "text": [
      "SCHEDULED_DEPARTURE has weight of -38.4405351881\n",
      "SCHEDULED_TIME has weight of -19.540826165\n",
      "DESTINATION_STATE_WY has weight of -0.705158369657\n",
      "WHEELS_ON has weight of -0.222777239942\n",
      "DAY has weight of -0.0733102213927\n",
      "DAY_OF_WEEK has weight of -0.0321799343521\n",
      "DESTINATION_REGION_Rocky has weight of -0.0318213417967\n",
      "AIRLINE_CODE_AS has weight of -0.00608340462361\n",
      "DESTINATION_COUNTRY_USA has weight of 0.0\n",
      "MONTH has weight of 0.0863524377239\n",
      "SCHEDULED_ARRIVAL has weight of 0.121577209421\n",
      "ARRIVAL_TIME has weight of 0.210826286345\n",
      "DISTANCE has weight of 0.46221979865\n",
      "TAXI_IN has weight of 0.756815971675\n",
      "SECURITY_DELAY has weight of 0.879407215239\n",
      "TAXI_OUT has weight of 1.26973306141\n",
      "WHEELS_OFF has weight of 1.64561235624\n",
      "ELAPSED_TIME has weight of 9.31646112104\n",
      "AIR_TIME has weight of 9.38131629098\n",
      "DEPARTURE_TIME has weight of 37.4677975689\n",
      "WEATHER_DELAY has weight of 52.9589110783\n",
      "AIRLINE_DELAY has weight of 87.0678793218\n",
      "LATE_AIRCRAFT_DELAY has weight of 178.366834572\n"
     ]
    }
   ],
   "source": [
    "# sort these attributes and print out model coefficients\n",
    "zip_vars = zip(grid_model.coef_.T, ATL_trimmed) # combine attributes\n",
    "zip_vars = sorted(zip_vars)\n",
    "for coef, name in zip_vars:\n",
    "    print(name, 'has weight of', coef[0]) # now print them out"
   ]
  },
  {
   "cell_type": "code",
   "execution_count": 29,
   "metadata": {},
   "outputs": [
    {
     "data": {
      "image/png": "[encoded data removed]",
      "text/plain": [
       "<matplotlib.figure.Figure at 0x22a1c28b080>"
      ]
     },
     "metadata": {},
     "output_type": "display_data"
    }
   ],
   "source": [
    "#Plot the coefficients\n",
    "%matplotlib inline\n",
    "plt.style.use('ggplot')\n",
    "\n",
    "\n",
    "weights = pd.Series(grid_model.coef_[0],index=ATL_trimmed.columns)\n",
    "weights.plot(kind='bar')\n",
    "plt.show()"
   ]
  },
  {
   "cell_type": "markdown",
   "metadata": {},
   "source": [
    "Interpret Feature Imortance\n",
    "We see that our model assigns the highest importance to the delay variables. Late Aircraft delay, airline dleay, and weather delay are our top three predictors of a significant late arrival when the origin airport is Atlanta. These coefficients are positive, meaning as these delays increase, so does the probability of one arriving late to his/her destination. \n",
    "\n",
    "##Joe--need help her for interpretation. \n",
    "\n",
    "In regards to why the variables are so important: let's phrase this in the context of us trying to implement an operational metric with the goal of presenting to airport operations and developing metrics rather than delays at destination cause late arrivals. "
   ]
  },
  {
   "cell_type": "markdown",
   "metadata": {},
   "source": [
    "Create Models: Support Vector Machine\n",
    "\n",
    "We will now transition to modeling our data using a support vector machine classifier. We have a high benchmark to hit in terms of accuracy. However, we are also interested in evaluating the other pros and cons of each model, discussed in model advantages. For example, if we can achieve a more sparse model with comparable accuracy utilizing SVM, we will likely tend to pick that method, as it is assumed our audience will prefer a simple solution. \n",
    "\n",
    "Just as with logistic regression, we begin with variable selection in order to reduce our massive data set to a more manageable size. \n"
   ]
  },
  {
   "cell_type": "code",
   "execution_count": 70,
   "metadata": {
    "collapsed": true
   },
   "outputs": [],
   "source": [
    "# IMPORT ADDITIONAL MODULES FOR SVC AND GRAPHICS\n",
    "from sklearn.feature_selection import SelectFromModel\n",
    "import numpy as np\n",
    "from matplotlib import style\n",
    "from sklearn.svm import SVC\n",
    "from sklearn import svm\n",
    "from sklearn.model_selection import train_test_split\n",
    "import matplotlib.pyplot as plt\n",
    "from sklearn.utils import shuffle\n",
    "from sklearn.metrics import roc_curve, auc\n",
    "from sklearn.svm import LinearSVC\n",
    "from sklearn.datasets import make_classification"
   ]
  },
  {
   "cell_type": "code",
   "execution_count": 31,
   "metadata": {},
   "outputs": [
    {
     "name": "stdout",
     "output_type": "stream",
     "text": [
      "The Shape of the data frame after adding dummy variables is (61460, 395)\n"
     ]
    }
   ],
   "source": [
    "print(\"The Shape of the data frame after adding dummy variables is\", ATL1.shape)\n",
    "#create an object to scale data using standard scaler\n",
    "from sklearn.preprocessing import StandardScaler\n",
    "scl_obj = StandardScaler()\n",
    "\n",
    "#scale X to make zero mean and unit standard deviation\n",
    "scl_obj.fit(X) \n",
    "X_scaled = scl_obj.transform(X)"
   ]
  },
  {
   "cell_type": "code",
   "execution_count": 73,
   "metadata": {},
   "outputs": [
    {
     "data": {
      "text/plain": [
       "(61460, 24)"
      ]
     },
     "execution_count": 73,
     "metadata": {},
     "output_type": "execute_result"
    }
   ],
   "source": [
    "#Begin variable selection\n",
    "SVC_1 = LinearSVC(C=0.01, penalty=\"l1\", dual=False).fit(X,y)\n",
    "Model_1 = SelectFromModel(SVC_1, prefit=True)\n",
    "X_new_1 = Model_1.transform(X)\n",
    "X_new_1.shape"
   ]
  },
  {
   "cell_type": "markdown",
   "metadata": {},
   "source": [
    "We notice that SVC picked approximately the same attributes for modeling. We continue with building our initial model."
   ]
  },
  {
   "cell_type": "code",
   "execution_count": 33,
   "metadata": {},
   "outputs": [
    {
     "data": {
      "text/plain": [
       "array([  0,   1,   2,   3,   4,   5,   6,   7,   8,   9,  10,  11,  12,\n",
       "        13,  14,  15,  16,  17,  18,  22,  25, 287, 387, 391, 392], dtype=int64)"
      ]
     },
     "execution_count": 33,
     "metadata": {},
     "output_type": "execute_result"
    }
   ],
   "source": [
    "#print out the features that were not zeroed out from the L1 regularization.\n",
    "#These will be the features to use in the sparse data set. \n",
    "Model_1.get_support(indices=True)"
   ]
  },
  {
   "cell_type": "code",
   "execution_count": 34,
   "metadata": {
    "collapsed": true
   },
   "outputs": [],
   "source": [
    "#make a new data frame of the selected 25 variables\n",
    "ATL_trimmed = ATL1.ix[:,[0,   1,   2,   3,   4,   5,   6,   7,   8,   9,  10,  11,  12,\n",
    "        13,  14,  15,  16,  17,  18,  22,  25, 287, 387, 391, 392]]"
   ]
  },
  {
   "cell_type": "code",
   "execution_count": 35,
   "metadata": {},
   "outputs": [
    {
     "name": "stdout",
     "output_type": "stream",
     "text": [
      "<class 'pandas.core.frame.DataFrame'>\n",
      "Int64Index: 61460 entries, 38 to 931955\n",
      "Data columns (total 25 columns):\n",
      "MONTH                           61460 non-null int64\n",
      "DAY                             61460 non-null int64\n",
      "DAY_OF_WEEK                     61460 non-null int64\n",
      "SCHEDULED_DEPARTURE             61460 non-null int64\n",
      "DEPARTURE_TIME                  61460 non-null float64\n",
      "TAXI_OUT                        61460 non-null float64\n",
      "WHEELS_OFF                      61460 non-null float64\n",
      "SCHEDULED_TIME                  61460 non-null float64\n",
      "ELAPSED_TIME                    61460 non-null float64\n",
      "AIR_TIME                        61460 non-null float64\n",
      "DISTANCE                        61460 non-null int64\n",
      "WHEELS_ON                       61460 non-null float64\n",
      "TAXI_IN                         61460 non-null float64\n",
      "SCHEDULED_ARRIVAL               61460 non-null int64\n",
      "ARRIVAL_TIME                    61460 non-null float64\n",
      "SECURITY_DELAY                  61460 non-null float64\n",
      "AIRLINE_DELAY                   61460 non-null float64\n",
      "LATE_AIRCRAFT_DELAY             61460 non-null float64\n",
      "WEATHER_DELAY                   61460 non-null float64\n",
      "AIRLINE_CODE_DL                 61460 non-null uint8\n",
      "AIRLINE_CODE_MQ                 61460 non-null uint8\n",
      "DESTINATION_CITY_New York       61460 non-null uint8\n",
      "DESTINATION_COUNTRY_USA         61460 non-null uint8\n",
      "DESTINATION_REGION_Rocky        61460 non-null uint8\n",
      "DESTINATION_REGION_Southeast    61460 non-null uint8\n",
      "dtypes: float64(13), int64(6), uint8(6)\n",
      "memory usage: 9.7 MB\n"
     ]
    }
   ],
   "source": [
    "ATL_trimmed.info()"
   ]
  },
  {
   "cell_type": "markdown",
   "metadata": {},
   "source": [
    "We noticed the differences between the variables selected for Logistic Regression compared to SVC. For example, Airline code, destination airport, destination state, and destination region are all different. \n",
    "\n",
    "What we see from the selected variables is not surprising: destination plays a large role and region is favored over the individual destination city variables. Also, we see that all of our delay variables are included, just as we saw in the logistic regression models. As we strive to translate this model to operational/business metrics, we want to pay close attention to the delay variable(s) with the largest coefficents, as they will help guide our final message. Time of departure is also a relevant feature. We will discuss more variable interpretation in the \"Interpret Support Vectors\" section.\n",
    "Now that we have a smaller subset of features, we will begin the SVC development and improvement. We begin with a model that doesn't make use of Grid Search. We will address model performance and then proceed to improve the model by improving model parameters. "
   ]
  },
  {
   "cell_type": "code",
   "execution_count": 36,
   "metadata": {
    "collapsed": true
   },
   "outputs": [],
   "source": [
    "#X values assigned\n",
    "X_trimmed_svc = ATL_trimmed.values"
   ]
  },
  {
   "cell_type": "code",
   "execution_count": 49,
   "metadata": {},
   "outputs": [
    {
     "name": "stdout",
     "output_type": "stream",
     "text": [
      "Score: 0.988285063456\n"
     ]
    }
   ],
   "source": [
    "#assign a train/test split of 80/20, 80% allocated for training, 20% allocated for test. \n",
    "X_train_svc,X_test_svc,y_train_svc,y_test_svc = train_test_split(X_trimmed_svc,y,test_size=0.2, random_state = 42)\n",
    "\n",
    "#create instace of SVC\n",
    "SVC = LinearSVC()\n",
    "\n",
    "#scale our X values\n",
    "#scale attributes by the training set\n",
    "scl_obj = StandardScaler()\n",
    "scl_obj.fit(X_train_svc) \n",
    "\n",
    "# find scalings for each column that make this zero mean and unit std\n",
    "# the line of code above only looks at training data to get mean and std and we can use it \n",
    "# to transform new feature data\n",
    "X_train_scaled_svc = scl_obj.transform(X_train_svc) # apply to training\n",
    "X_test_scaled_svc = scl_obj.transform(X_test_svc)\n",
    "\n",
    "#fit model\n",
    "SVC.fit(X_train_scaled_svc,y_train_svc)\n",
    "\n",
    "#Predict on test data set\n",
    "y_hat_svc = SVC.predict(X_test_scaled_svc)\n",
    "\n",
    "print (\"Score:\", SVC.score(X_test_scaled_svc, y_test_svc))"
   ]
  },
  {
   "cell_type": "code",
   "execution_count": 50,
   "metadata": {},
   "outputs": [
    {
     "name": "stdout",
     "output_type": "stream",
     "text": [
      "SCHEDULED_TIME has weight of -2.78324936025\n",
      "SCHEDULED_DEPARTURE has weight of -2.33670234818\n",
      "DESTINATION_REGION_Southeast has weight of -0.0791128105224\n",
      "WHEELS_ON has weight of -0.0743568528498\n",
      "DISTANCE has weight of -0.037976976206\n",
      "WHEELS_OFF has weight of -0.0237326390252\n",
      "DAY_OF_WEEK has weight of -0.0191223873245\n",
      "DAY has weight of -0.00360671903696\n",
      "DESTINATION_COUNTRY_USA has weight of 0.0\n",
      "DESTINATION_REGION_Rocky has weight of 0.00223529769447\n",
      "AIRLINE_CODE_MQ has weight of 0.00328185568146\n",
      "MONTH has weight of 0.0237371103456\n",
      "AIRLINE_CODE_DL has weight of 0.0297804171071\n",
      "ARRIVAL_TIME has weight of 0.0375734403343\n",
      "DESTINATION_CITY_New York has weight of 0.042140691087\n",
      "SCHEDULED_ARRIVAL has weight of 0.0584208023567\n",
      "TAXI_IN has weight of 0.119909274547\n",
      "SECURITY_DELAY has weight of 0.142620588997\n",
      "TAXI_OUT has weight of 0.212954719742\n",
      "ELAPSED_TIME has weight of 1.3662770764\n",
      "AIR_TIME has weight of 1.37210020832\n",
      "DEPARTURE_TIME has weight of 2.40892763412\n",
      "WEATHER_DELAY has weight of 3.04353447306\n",
      "AIRLINE_DELAY has weight of 7.01450302144\n",
      "LATE_AIRCRAFT_DELAY has weight of 9.28064591196\n"
     ]
    }
   ],
   "source": [
    "# sort these attributes and print out model coefficients\n",
    "zip_vars = zip(SVC.coef_.T, ATL_trimmed) # combine attributes\n",
    "zip_vars = sorted(zip_vars)\n",
    "for coef, name in zip_vars:\n",
    "    print(name, 'has weight of', coef[0]) # now print them out"
   ]
  },
  {
   "cell_type": "code",
   "execution_count": 51,
   "metadata": {},
   "outputs": [
    {
     "data": {
      "image/png": "[encoded data removed]",
      "text/plain": [
       "<matplotlib.figure.Figure at 0x22a1c36ccf8>"
      ]
     },
     "metadata": {},
     "output_type": "display_data"
    }
   ],
   "source": [
    "#Plot the coefficients\n",
    "%matplotlib inline\n",
    "plt.style.use('ggplot')\n",
    "\n",
    "weights = pd.Series(SVC.coef_[0],index=ATL_trimmed.columns)\n",
    "weights.plot(kind='bar')\n",
    "plt.show()"
   ]
  },
  {
   "cell_type": "markdown",
   "metadata": {},
   "source": [
    "Our SVM modeling follows the same train/test split pattern as see in the logistic regression section. Because our features are on different scales, we also use the standard scaler function. The model is trained on 80% of the instances and tested on 20% of the instances. Our first indication of model performance is seen above using the SVC.score function. We see nearly equivalent performance as we saw on the first pass of logistic regression. \n",
    "\n",
    "Let's now take an even closer look at the various classification metrics. "
   ]
  },
  {
   "cell_type": "code",
   "execution_count": 52,
   "metadata": {},
   "outputs": [
    {
     "data": {
      "text/plain": [
       "array([[10401,     4],\n",
       "       [  140,  1747]])"
      ]
     },
     "execution_count": 52,
     "metadata": {},
     "output_type": "execute_result"
    }
   ],
   "source": [
    "from sklearn import metrics as mt\n",
    "conf_svc1 = mt.confusion_matrix(y_test_svc,y_hat_svc)\n",
    "conf_svc1"
   ]
  },
  {
   "cell_type": "code",
   "execution_count": 53,
   "metadata": {},
   "outputs": [
    {
     "name": "stdout",
     "output_type": "stream",
     "text": [
      "             precision    recall  f1-score   support\n",
      "\n",
      "        0.0       0.99      1.00      0.99     10405\n",
      "        1.0       1.00      0.93      0.96      1887\n",
      "\n",
      "avg / total       0.99      0.99      0.99     12292\n",
      "\n"
     ]
    }
   ],
   "source": [
    "from sklearn.metrics import classification_report\n",
    "print(classification_report(y_test_svc,y_hat_svc))"
   ]
  },
  {
   "cell_type": "code",
   "execution_count": 54,
   "metadata": {},
   "outputs": [
    {
     "name": "stdout",
     "output_type": "stream",
     "text": [
      "Average precision-recall score: 0.97\n"
     ]
    },
    {
     "data": {
      "image/png": "[encoded data removed]",
      "text/plain": [
       "<matplotlib.figure.Figure at 0x22a17951f60>"
      ]
     },
     "metadata": {},
     "output_type": "display_data"
    }
   ],
   "source": [
    "from sklearn.metrics import precision_recall_curve\n",
    "import matplotlib.pyplot as plt\n",
    "from sklearn.metrics import average_precision_score\n",
    "average_precision = average_precision_score(y_test_svc, y_hat_svc)\n",
    "\n",
    "print('Average precision-recall score: {0:0.2f}'.format(\n",
    "      average_precision))\n",
    "precision, recall, _ = precision_recall_curve(y_test_svc, y_hat_svc)\n",
    "\n",
    "plt.step(recall, precision, color='b', alpha=0.2,\n",
    "         where='post')\n",
    "plt.fill_between(recall, precision, step='post', alpha=0.2,\n",
    "                 color='b')\n",
    "\n",
    "plt.xlabel('Recall')\n",
    "plt.ylabel('Precision')\n",
    "plt.ylim([0.0, 1.05])\n",
    "plt.xlim([0.0, 1.0])\n",
    "plt.title('2-class Precision-Recall Curve: AP={0:0.2f}'.format(\n",
    "          average_precision))\n",
    "plt.show()\n",
    "\n",
    "#source: scikitlearn documentation."
   ]
  },
  {
   "cell_type": "markdown",
   "metadata": {},
   "source": [
    "What we see above in the confusion matrix and classification report is exceptional performance. Our minority class, delays, are predicted well. To truly outperform logistic regression, we need to see better recall in the 1 class (arrival delays). Additionally, the precision-recall curve indicates strong precision/recall tradeoff without much of a sacrifice in the performance of either class. \n",
    "\n",
    "Before moving on to an optimized model, we will plot this model's coefficients. "
   ]
  },
  {
   "cell_type": "markdown",
   "metadata": {},
   "source": [
    "The SVM model's coefficients, much like the past models reinforce that the delays at the origin airport, ATL, have strong predictive power on the probability of a delayed arrival. "
   ]
  },
  {
   "cell_type": "markdown",
   "metadata": {},
   "source": [
    "To recap, we performed variable selection and created a SVC model based on the terms that were not penalized to 0 coefficients in L1 regularization. We saw that the model performed well based on an 80/20 train/test split. We will now investigate how to improve upon an already strong model using GridSearchCV. The variable we want to improve is C:\"Inverse of regularization strength; must be a positive float. Like in support vector machines, smaller values specify stronger regularization\" (scikit learn logistic regression documentation)."
   ]
  },
  {
   "cell_type": "code",
   "execution_count": 55,
   "metadata": {},
   "outputs": [
    {
     "data": {
      "text/plain": [
       "GridSearchCV(cv=None, error_score='raise',\n",
       "       estimator=LinearSVC(C=1.0, class_weight=None, dual=True, fit_intercept=True,\n",
       "     intercept_scaling=1, loss='squared_hinge', max_iter=1000,\n",
       "     multi_class='ovr', penalty='l2', random_state=None, tol=0.0001,\n",
       "     verbose=0),\n",
       "       fit_params={}, iid=True, n_jobs=1,\n",
       "       param_grid={'C': [0.001, 0.01, 0.1, 1, 10, 100, 1000]},\n",
       "       pre_dispatch='2*n_jobs', refit=True, return_train_score=True,\n",
       "       scoring=None, verbose=0)"
      ]
     },
     "execution_count": 55,
     "metadata": {},
     "output_type": "execute_result"
    }
   ],
   "source": [
    "#set up parameter grid search for C variable\n",
    "from sklearn.model_selection import GridSearchCV\n",
    "param_grid = {'C': [0.001, 0.01, 0.1, 1, 10, 100, 1000] }\n",
    "SVC = SVC = LinearSVC()\n",
    "clf_svc = GridSearchCV(SVC, param_grid)\n",
    "\n",
    "#fit model\n",
    "clf_svc.fit(X_train_scaled_svc,y_train_svc)"
   ]
  },
  {
   "cell_type": "code",
   "execution_count": 56,
   "metadata": {},
   "outputs": [
    {
     "name": "stdout",
     "output_type": "stream",
     "text": [
      "0.989952814839\n",
      "{'C': 10}\n"
     ]
    }
   ],
   "source": [
    "#print the best paramter of C found and best score\n",
    "print(clf_svc.best_score_)\n",
    "print(clf_svc.best_params_)"
   ]
  },
  {
   "cell_type": "code",
   "execution_count": 58,
   "metadata": {},
   "outputs": [
    {
     "name": "stdout",
     "output_type": "stream",
     "text": [
      "Test accuracy: 0.989\n"
     ]
    }
   ],
   "source": [
    "#print test accuracy using best estimator from gridsearch\n",
    "grid_model_svc = clf_svc.best_estimator_\n",
    "grid_model_svc.fit(X_train_scaled_svc, y_train_svc)\n",
    "gridpredict = grid_model_svc.predict(X_test_scaled_svc)\n",
    "print('Test accuracy: %.3f' % grid_model_svc.score(X_test_scaled_svc, y_test_svc))"
   ]
  },
  {
   "cell_type": "code",
   "execution_count": 59,
   "metadata": {},
   "outputs": [
    {
     "data": {
      "text/plain": [
       "array([[10402,     3],\n",
       "       [  136,  1751]])"
      ]
     },
     "execution_count": 59,
     "metadata": {},
     "output_type": "execute_result"
    }
   ],
   "source": [
    "#evaluate performance via confusion matrix\n",
    "conf_gridsvm = mt.confusion_matrix(y_test_svc,gridpredict)\n",
    "conf_gridsvm"
   ]
  },
  {
   "cell_type": "code",
   "execution_count": 60,
   "metadata": {},
   "outputs": [
    {
     "name": "stdout",
     "output_type": "stream",
     "text": [
      "             precision    recall  f1-score   support\n",
      "\n",
      "        0.0       0.99      0.93      0.96     10405\n",
      "        1.0       0.71      0.96      0.82      1887\n",
      "\n",
      "avg / total       0.95      0.93      0.94     12292\n",
      "\n"
     ]
    }
   ],
   "source": [
    "#take a look at the classification report\n",
    "print(classification_report(y_test_svc,yhatgridsvc))"
   ]
  },
  {
   "cell_type": "code",
   "execution_count": 61,
   "metadata": {},
   "outputs": [
    {
     "name": "stdout",
     "output_type": "stream",
     "text": [
      "SCHEDULED_DEPARTURE has weight of -2.95301770132\n",
      "SCHEDULED_TIME has weight of -2.88300019425\n",
      "WHEELS_ON has weight of -0.0882391782545\n",
      "DESTINATION_REGION_Southeast has weight of -0.0663449630788\n",
      "DISTANCE has weight of -0.0213999911817\n",
      "DESTINATION_REGION_Rocky has weight of -0.020369786109\n",
      "DAY_OF_WEEK has weight of -0.00962891210508\n",
      "DESTINATION_COUNTRY_USA has weight of 0.0\n",
      "DAY has weight of 0.000168282131627\n",
      "AIRLINE_CODE_MQ has weight of 0.00645950557586\n",
      "WHEELS_OFF has weight of 0.010470372617\n",
      "MONTH has weight of 0.0196754589469\n",
      "DESTINATION_CITY_New York has weight of 0.045822213709\n",
      "SCHEDULED_ARRIVAL has weight of 0.0548770983376\n",
      "AIRLINE_CODE_DL has weight of 0.0724126980934\n",
      "ARRIVAL_TIME has weight of 0.0744352195236\n",
      "TAXI_IN has weight of 0.124030022186\n",
      "SECURITY_DELAY has weight of 0.1521665841\n",
      "TAXI_OUT has weight of 0.200212815748\n",
      "ELAPSED_TIME has weight of 1.40868493569\n",
      "AIR_TIME has weight of 1.41688094237\n",
      "DEPARTURE_TIME has weight of 2.98127038486\n",
      "WEATHER_DELAY has weight of 3.98020506724\n",
      "AIRLINE_DELAY has weight of 12.7649046001\n",
      "LATE_AIRCRAFT_DELAY has weight of 13.3237528899\n"
     ]
    }
   ],
   "source": [
    "# sort these attributes and print out model coefficients\n",
    "zip_vars = zip(grid_model_svc.coef_.T, ATL_trimmed) # combine attributes\n",
    "zip_vars = sorted(zip_vars)\n",
    "for coef, name in zip_vars:\n",
    "    print(name, 'has weight of', coef[0]) # now print them out"
   ]
  },
  {
   "cell_type": "code",
   "execution_count": 34,
   "metadata": {},
   "outputs": [
    {
     "data": {
      "image/png": "[encoded data removed]",
      "text/plain": [
       "<matplotlib.figure.Figure at 0x264994ee240>"
      ]
     },
     "metadata": {},
     "output_type": "display_data"
    }
   ],
   "source": [
    "#Plot the coefficients\n",
    "%matplotlib inline\n",
    "plt.style.use('ggplot')\n",
    "\n",
    "weights = pd.Series(grid_model_svc.coef_[0],index=ATL_trimmed.columns)\n",
    "weights.plot(kind='bar')\n",
    "plt.show()"
   ]
  },
  {
   "cell_type": "code",
   "execution_count": 65,
   "metadata": {},
   "outputs": [
    {
     "ename": "AttributeError",
     "evalue": "'LinearSVC' object has no attribute 'support_vectors_'",
     "output_type": "error",
     "traceback": [
      "\u001b[0;31m---------------------------------------------------------------------------\u001b[0m",
      "\u001b[0;31mAttributeError\u001b[0m                            Traceback (most recent call last)",
      "\u001b[0;32m<ipython-input-65-575ba5f064b1>\u001b[0m in \u001b[0;36m<module>\u001b[0;34m()\u001b[0m\n\u001b[1;32m      1\u001b[0m \u001b[1;31m#support vectors\u001b[0m\u001b[1;33m\u001b[0m\u001b[1;33m\u001b[0m\u001b[0m\n\u001b[0;32m----> 2\u001b[0;31m \u001b[0mprint\u001b[0m\u001b[1;33m(\u001b[0m\u001b[0mSVC\u001b[0m\u001b[1;33m.\u001b[0m\u001b[0msupport_vectors_\u001b[0m\u001b[1;33m.\u001b[0m\u001b[0mshape\u001b[0m\u001b[1;33m)\u001b[0m\u001b[1;33m\u001b[0m\u001b[0m\n\u001b[0m\u001b[1;32m      3\u001b[0m \u001b[1;31m#print(svm_clf.support_.shape)\u001b[0m\u001b[1;33m\u001b[0m\u001b[1;33m\u001b[0m\u001b[0m\n\u001b[1;32m      4\u001b[0m \u001b[1;31m#print(svm_clf.n_support_ )\u001b[0m\u001b[1;33m\u001b[0m\u001b[1;33m\u001b[0m\u001b[0m\n",
      "\u001b[0;31mAttributeError\u001b[0m: 'LinearSVC' object has no attribute 'support_vectors_'"
     ]
    }
   ],
   "source": [
    "#support vectors\n",
    "print(SVC.support_vectors_.shape)\n",
    "#print(svm_clf.support_.shape)\n",
    "#print(svm_clf.n_support_ )"
   ]
  },
  {
   "cell_type": "code",
   "execution_count": null,
   "metadata": {
    "collapsed": true
   },
   "outputs": [],
   "source": []
  }
 ],
 "metadata": {
  "kernelspec": {
   "display_name": "Python 3",
   "language": "python",
   "name": "python3"
  },
  "language_info": {
   "codemirror_mode": {
    "name": "ipython",
    "version": 3
   },
   "file_extension": ".py",
   "mimetype": "text/x-python",
   "name": "python",
   "nbconvert_exporter": "python",
   "pygments_lexer": "ipython3",
   "version": "3.6.3"
  }
 },
 "nbformat": 4,
 "nbformat_minor": 2
}
